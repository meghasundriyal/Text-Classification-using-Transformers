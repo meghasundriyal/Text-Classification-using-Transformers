{
 "cells": [
  {
   "cell_type": "markdown",
   "metadata": {},
   "source": [
    "Tranformers need files in tsv instead of csv. Thus need to convert csv to tsv first. "
   ]
  },
  {
   "cell_type": "code",
   "execution_count": 27,
   "metadata": {},
   "outputs": [],
   "source": [
    "import pandas as pd \n",
    "import numpy as np"
   ]
  },
  {
   "cell_type": "code",
   "execution_count": 51,
   "metadata": {},
   "outputs": [],
   "source": [
    "def csv2tsv(filename):\n",
    "    dataframe = pd.read_csv(filename + '.csv', header = None)   #read csv\n",
    "    '''\n",
    "        The original datasets have labels as 1 for bad and 2 for good review. \n",
    "        We will change it to 0 for bad and 1 for good reviews.\n",
    "    '''\n",
    "    dataframe['label'] = np.where(dataframe[0] == 1, 0, 1)\n",
    "    \n",
    "    '''\n",
    "        BERT needs four columns in tsv file. We will tranform the data in that format only.\n",
    "            - id  : ID for each row\n",
    "            - label : class label\n",
    "            - alpha : same label for all rows\n",
    "            - text : given text\n",
    "    '''\n",
    "    dataframe_bert = pd.DataFrame({\n",
    "        'id' : range(len(dataframe)),\n",
    "        'label' : dataframe.label,\n",
    "        'alpha' : ['a']*dataframe.shape[0],\n",
    "        'text' : dataframe[1].replace('\\n', ' ', regex = True)\n",
    "    })\n",
    "    \n",
    "    dataframe_bert.to_csv(filename + '.tsv', sep ='\\t', header=None)\n",
    "    return None"
   ]
  },
  {
   "cell_type": "code",
   "execution_count": 53,
   "metadata": {},
   "outputs": [],
   "source": [
    "csv2tsv('data/train')\n",
    "csv2tsv('data/dev')"
   ]
  },
  {
   "cell_type": "markdown",
   "metadata": {},
   "source": []
  }
 ],
 "metadata": {
  "kernelspec": {
   "display_name": "Python 3",
   "language": "python",
   "name": "python3"
  },
  "language_info": {
   "codemirror_mode": {
    "name": "ipython",
    "version": 3
   },
   "file_extension": ".py",
   "mimetype": "text/x-python",
   "name": "python",
   "nbconvert_exporter": "python",
   "pygments_lexer": "ipython3",
   "version": "3.7.3"
  }
 },
 "nbformat": 4,
 "nbformat_minor": 2
}
